{
 "cells": [
  {
   "cell_type": "code",
   "execution_count": 43,
   "metadata": {},
   "outputs": [
    {
     "name": "stdout",
     "output_type": "stream",
     "text": [
      "(60000, 28, 28) (60000,)\n"
     ]
    }
   ],
   "source": [
    "import keras\n",
    "from keras.datasets import mnist\n",
    "from keras.models import Sequential\n",
    "from keras.layers import Dense, Dropout, Flatten\n",
    "from keras.layers import Conv2D, MaxPooling2D\n",
    "from keras import backend as K\n",
    "\n",
    "(x_train, y_train), (x_test, y_test) = mnist.load_data()\n",
    "print(x_train.shape, y_train.shape)"
   ]
  },
  {
   "cell_type": "code",
   "execution_count": 45,
   "metadata": {},
   "outputs": [
    {
     "name": "stdout",
     "output_type": "stream",
     "text": [
      "x_train shape: (60000, 28, 28, 1)\n",
      "60000 train samples\n",
      "10000 test samples\n"
     ]
    }
   ],
   "source": [
    "x_train = x_train.reshape(x_train.shape[0], 28, 28, 1)\n",
    "x_test = x_test.reshape(x_test.shape[0], 28, 28, 1)\n",
    "input_shape = (28, 28, 1)\n",
    "y_train = keras.utils.to_categorical(y_train, 10)\n",
    "y_test = keras.utils.to_categorical(y_test, 10)\n",
    "\n",
    "x_train = x_train.astype('float32')\n",
    "x_test = x_test.astype('float32')\n",
    "x_train /= 255\n",
    "x_test /= 255\n",
    "print('x_train shape:', x_train.shape)\n",
    "print(x_train.shape[0], 'train samples')\n",
    "print(x_test.shape[0], 'test samples')"
   ]
  },
  {
   "cell_type": "code",
   "execution_count": 47,
   "metadata": {},
   "outputs": [],
   "source": [
    "batch_size = 128\n",
    "num_classes = 10\n",
    "epochs = 10\n",
    "\n",
    "model = Sequential()\n",
    "model.add(Conv2D(32, kernel_size=(3, 3),activation='relu',input_shape=input_shape))\n",
    "model.add(Conv2D(64, (3, 3), activation='relu'))\n",
    "model.add(MaxPooling2D(pool_size=(2, 2)))\n",
    "model.add(Dropout(0.25))\n",
    "model.add(Flatten())\n",
    "model.add(Dense(256, activation='relu'))\n",
    "model.add(Dropout(0.5))\n",
    "model.add(Dense(num_classes, activation='softmax'))\n",
    "model.compile(loss=keras.losses.categorical_crossentropy,optimizer=keras.optimizers.Adadelta(),metrics=['accuracy'])"
   ]
  },
  {
   "cell_type": "code",
   "execution_count": 48,
   "metadata": {},
   "outputs": [
    {
     "name": "stdout",
     "output_type": "stream",
     "text": [
      "Epoch 1/10\n",
      "469/469 [==============================] - 22s 43ms/step - loss: 2.2683 - accuracy: 0.1777 - val_loss: 2.2202 - val_accuracy: 0.4624\n",
      "Epoch 2/10\n",
      "469/469 [==============================] - 21s 45ms/step - loss: 2.1875 - accuracy: 0.3415 - val_loss: 2.1172 - val_accuracy: 0.6378\n",
      "Epoch 3/10\n",
      "469/469 [==============================] - 21s 44ms/step - loss: 2.0765 - accuracy: 0.4739 - val_loss: 1.9742 - val_accuracy: 0.7140\n",
      "Epoch 4/10\n",
      "469/469 [==============================] - 20s 44ms/step - loss: 1.9215 - accuracy: 0.5698 - val_loss: 1.7749 - val_accuracy: 0.7681\n",
      "Epoch 5/10\n",
      "469/469 [==============================] - 21s 44ms/step - loss: 1.7170 - accuracy: 0.6291 - val_loss: 1.5205 - val_accuracy: 0.7968\n",
      "Epoch 6/10\n",
      "469/469 [==============================] - 21s 44ms/step - loss: 1.4824 - accuracy: 0.6665 - val_loss: 1.2531 - val_accuracy: 0.8117\n",
      "Epoch 7/10\n",
      "469/469 [==============================] - 21s 44ms/step - loss: 1.2611 - accuracy: 0.6987 - val_loss: 1.0248 - val_accuracy: 0.8257\n",
      "Epoch 8/10\n",
      "469/469 [==============================] - 21s 45ms/step - loss: 1.0857 - accuracy: 0.7226 - val_loss: 0.8557 - val_accuracy: 0.8380\n",
      "Epoch 9/10\n",
      "469/469 [==============================] - 21s 45ms/step - loss: 0.9587 - accuracy: 0.7413 - val_loss: 0.7386 - val_accuracy: 0.8451\n",
      "Epoch 10/10\n",
      "469/469 [==============================] - 21s 45ms/step - loss: 0.8712 - accuracy: 0.7557 - val_loss: 0.6573 - val_accuracy: 0.8524\n",
      "The model has successfully trained\n",
      "Saving the model as mnist.h5\n"
     ]
    }
   ],
   "source": [
    "hist = model.fit(x_train, y_train,batch_size=batch_size,epochs=epochs,verbose=1,validation_data=(x_test, y_test))\n",
    "print(\"The model has successfully trained\")\n",
    "model.save('mnist.h5')\n",
    "print(\"Saving the model as mnist.h5\")"
   ]
  },
  {
   "cell_type": "code",
   "execution_count": 49,
   "metadata": {},
   "outputs": [
    {
     "name": "stdout",
     "output_type": "stream",
     "text": [
      "Test loss: 0.6573154330253601\n",
      "Test accuracy: 0.852400004863739\n"
     ]
    }
   ],
   "source": [
    "score = model.evaluate(x_test, y_test, verbose=0)\n",
    "print('Test loss:', score[0])\n",
    "print('Test accuracy:', score[1])"
   ]
  },
  {
   "cell_type": "code",
   "execution_count": null,
   "metadata": {},
   "outputs": [],
   "source": []
  }
 ],
 "metadata": {
  "kernelspec": {
   "display_name": "ml",
   "language": "python",
   "name": "python3"
  },
  "language_info": {
   "codemirror_mode": {
    "name": "ipython",
    "version": 3
   },
   "file_extension": ".py",
   "mimetype": "text/x-python",
   "name": "python",
   "nbconvert_exporter": "python",
   "pygments_lexer": "ipython3",
   "version": "3.10.6"
  },
  "orig_nbformat": 4,
  "vscode": {
   "interpreter": {
    "hash": "aa988dc84169458e96ff54d38f34f538c92e147353a2adb0617d7e2117577836"
   }
  }
 },
 "nbformat": 4,
 "nbformat_minor": 2
}
